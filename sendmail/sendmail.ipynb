{
 "cells": [
  {
   "cell_type": "code",
   "execution_count": 47,
   "metadata": {},
   "outputs": [],
   "source": [
    "import pandas as pd\n",
    "import smtplib\n",
    "import email.message\n",
    "\n",
    "tabela = pd.read_excel('teste2.xlsx')"
   ]
  },
  {
   "cell_type": "code",
   "execution_count": 48,
   "metadata": {},
   "outputs": [
    {
     "name": "stdout",
     "output_type": "stream",
     "text": [
      "Email enviado\n",
      "Email enviado\n",
      "Email enviado\n",
      "Email enviado\n",
      "Email enviado\n",
      "Email enviado\n"
     ]
    }
   ],
   "source": [
    "def enviar_email(): \n",
    "    for index, cliente in tabela.iterrows():\n",
    "        nome_cliente = cliente['nome']\n",
    "        pedido_cliente = cliente['pedido']\n",
    "        rastreamento_cliente = cliente['rastreamento']\n",
    "        email_cliente = cliente['email']\n",
    "        \n",
    "        corpo_email = (f'Olá {nome_cliente}! Seu pedido #{pedido_cliente} foi enviado. O número da carta de porte é {rastreamento_cliente}. Para acompanhar o status da entrega, acesse o site da transportadora: https://www.jtexpress.com.br/trajectoryQuery  Caso precise de suporte, estamos à disposição através do link: https://suporte.up.railway.app/')\n",
    "    \n",
    "        msg = email.message.Message()\n",
    "        msg['Subject'] = \"Assunto\"\n",
    "        msg['From'] = 'noreply@buqcareoficial.com.br'\n",
    "        msg['To'] = email_cliente.strip()       \n",
    "        password = 'ektroxoiqttqoqns' \n",
    "        msg.add_header('Content-Type', 'text/html')\n",
    "        msg.set_payload(corpo_email )\n",
    "\n",
    "        s = smtplib.SMTP('smtp.gmail.com: 587')\n",
    "        s.starttls()\n",
    "        # Login Credentials for sending the mail\n",
    "        s.login(msg['From'], password)\n",
    "        s.sendmail(msg['From'], [msg['To']], msg.as_string().encode('utf-8'))\n",
    "        print('Email enviado')\n",
    "\n",
    "enviar_email()"
   ]
  }
 ],
 "metadata": {
  "kernelspec": {
   "display_name": "base",
   "language": "python",
   "name": "python3"
  },
  "language_info": {
   "codemirror_mode": {
    "name": "ipython",
    "version": 3
   },
   "file_extension": ".py",
   "mimetype": "text/x-python",
   "name": "python",
   "nbconvert_exporter": "python",
   "pygments_lexer": "ipython3",
   "version": "3.12.7"
  }
 },
 "nbformat": 4,
 "nbformat_minor": 2
}
